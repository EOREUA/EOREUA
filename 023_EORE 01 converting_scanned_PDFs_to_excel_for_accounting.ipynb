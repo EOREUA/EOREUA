{
  "nbformat": 4,
  "nbformat_minor": 0,
  "metadata": {
    "colab": {
      "name": "023 converting scanned PDFs to excel for accounting",
      "provenance": [],
      "include_colab_link": true
    },
    "kernelspec": {
      "name": "python3",
      "display_name": "Python 3"
    }
  },
  "cells": [
    {
      "cell_type": "markdown",
      "metadata": {
        "id": "view-in-github",
        "colab_type": "text"
      },
      "source": [
        "<a href=\"https://colab.research.google.com/github/EOREUA/EOREUA/blob/main/023_EORE%2001%20converting_scanned_PDFs_to_excel_for_accounting.ipynb\" target=\"_parent\"><img src=\"https://colab.research.google.com/assets/colab-badge.svg\" alt=\"Open In Colab\"/></a>"
      ]
    },
    {
      "cell_type": "code",
      "metadata": {
        "id": "zkyeOqINJf2V",
        "outputId": "09e9853b-3e85-489d-ba2d-4b3c5b05a086",
        "colab": {
          "base_uri": "https://localhost:8080/"
        }
      },
      "source": [
        "!apt-get install ocrmypdf -q"
      ],
      "execution_count": 1,
      "outputs": [
        {
          "output_type": "stream",
          "name": "stdout",
          "text": [
            "Reading package lists...\n",
            "Building dependency tree...\n",
            "Reading state information...\n",
            "The following additional packages will be installed:\n",
            "  fonts-droid-fallback fonts-noto-mono ghostscript gsfonts icc-profiles-free\n",
            "  libart-2.0-2 libcupsfilters1 libcupsimage2 libgs9 libgs9-common libijs-0.35\n",
            "  libjbig2dec0 libqpdf21 poppler-data python3-cffi-backend python3-defusedxml\n",
            "  python3-img2pdf python3-olefile python3-pil python3-pkg-resources\n",
            "  python3-pypdf2 python3-renderpm python3-reportlab python3-reportlab-accel\n",
            "  python3-ruffus qpdf tesseract-ocr tesseract-ocr-eng tesseract-ocr-osd\n",
            "  unpaper\n",
            "Suggested packages:\n",
            "  fonts-noto ghostscript-x ocrmypdf-doc python-watchdog img2pdf poppler-utils\n",
            "  fonts-japanese-mincho | fonts-ipafont-mincho fonts-japanese-gothic\n",
            "  | fonts-ipafont-gothic fonts-arphic-ukai fonts-arphic-uming fonts-nanum\n",
            "  python3-pdfrw python-pil-doc python3-pil-dbg python3-setuptools\n",
            "  python3-renderpm-dbg pdf-viewer python3-egenix-mxtexttools\n",
            "  python-reportlab-doc\n",
            "The following NEW packages will be installed:\n",
            "  fonts-droid-fallback fonts-noto-mono ghostscript gsfonts icc-profiles-free\n",
            "  libart-2.0-2 libcupsfilters1 libcupsimage2 libgs9 libgs9-common libijs-0.35\n",
            "  libjbig2dec0 libqpdf21 ocrmypdf poppler-data python3-cffi-backend\n",
            "  python3-defusedxml python3-img2pdf python3-olefile python3-pil\n",
            "  python3-pkg-resources python3-pypdf2 python3-renderpm python3-reportlab\n",
            "  python3-reportlab-accel python3-ruffus qpdf tesseract-ocr tesseract-ocr-eng\n",
            "  tesseract-ocr-osd unpaper\n",
            "0 upgraded, 31 newly installed, 0 to remove and 75 not upgraded.\n",
            "Need to get 21.6 MB of archives.\n",
            "After this operation, 75.8 MB of additional disk space will be used.\n",
            "Get:1 http://archive.ubuntu.com/ubuntu bionic/main amd64 fonts-droid-fallback all 1:6.0.1r16-1.1 [1,805 kB]\n",
            "Get:2 http://archive.ubuntu.com/ubuntu bionic/main amd64 poppler-data all 0.4.8-2 [1,479 kB]\n",
            "Get:3 http://archive.ubuntu.com/ubuntu bionic/main amd64 fonts-noto-mono all 20171026-2 [75.5 kB]\n",
            "Get:4 http://archive.ubuntu.com/ubuntu bionic-updates/main amd64 libcupsimage2 amd64 2.2.7-1ubuntu2.8 [18.6 kB]\n",
            "Get:5 http://archive.ubuntu.com/ubuntu bionic/main amd64 libijs-0.35 amd64 0.35-13 [15.5 kB]\n",
            "Get:6 http://archive.ubuntu.com/ubuntu bionic/main amd64 libjbig2dec0 amd64 0.13-6 [55.9 kB]\n",
            "Get:7 http://archive.ubuntu.com/ubuntu bionic-updates/main amd64 libgs9-common all 9.26~dfsg+0-0ubuntu0.18.04.15 [5,092 kB]\n",
            "Get:8 http://archive.ubuntu.com/ubuntu bionic-updates/main amd64 libgs9 amd64 9.26~dfsg+0-0ubuntu0.18.04.15 [2,265 kB]\n",
            "Get:9 http://archive.ubuntu.com/ubuntu bionic-updates/main amd64 ghostscript amd64 9.26~dfsg+0-0ubuntu0.18.04.15 [51.4 kB]\n",
            "Get:10 http://archive.ubuntu.com/ubuntu bionic/main amd64 gsfonts all 1:8.11+urwcyr1.0.7~pre44-4.4 [3,120 kB]\n",
            "Get:11 http://archive.ubuntu.com/ubuntu bionic/main amd64 icc-profiles-free all 2.0.1+dfsg-1 [549 kB]\n",
            "Get:12 http://archive.ubuntu.com/ubuntu bionic/main amd64 libart-2.0-2 amd64 2.3.21-3 [51.9 kB]\n",
            "Get:13 http://archive.ubuntu.com/ubuntu bionic-updates/main amd64 libcupsfilters1 amd64 1.20.2-0ubuntu3.1 [108 kB]\n",
            "Get:14 http://archive.ubuntu.com/ubuntu bionic-updates/main amd64 libqpdf21 amd64 8.0.2-3ubuntu0.1 [290 kB]\n",
            "Get:15 http://archive.ubuntu.com/ubuntu bionic-updates/main amd64 python3-pil amd64 5.1.0-1ubuntu0.7 [331 kB]\n",
            "Get:16 http://archive.ubuntu.com/ubuntu bionic/main amd64 python3-pkg-resources all 39.0.1-2 [98.8 kB]\n",
            "Get:17 http://archive.ubuntu.com/ubuntu bionic-updates/main amd64 python3-reportlab-accel amd64 3.4.0-3ubuntu0.1 [18.4 kB]\n",
            "Get:18 http://archive.ubuntu.com/ubuntu bionic-updates/main amd64 python3-reportlab all 3.4.0-3ubuntu0.1 [473 kB]\n",
            "Get:19 http://archive.ubuntu.com/ubuntu bionic/universe amd64 python3-ruffus all 2.6.3+dfsg-5 [87.5 kB]\n",
            "Get:20 http://archive.ubuntu.com/ubuntu bionic-updates/main amd64 qpdf amd64 8.0.2-3ubuntu0.1 [238 kB]\n",
            "Get:21 http://archive.ubuntu.com/ubuntu bionic/universe amd64 tesseract-ocr-eng all 4.00~git24-0e00fe6-1.2 [1,588 kB]\n",
            "Get:22 http://archive.ubuntu.com/ubuntu bionic/universe amd64 tesseract-ocr-osd all 4.00~git24-0e00fe6-1.2 [2,989 kB]\n",
            "Get:23 http://archive.ubuntu.com/ubuntu bionic/universe amd64 tesseract-ocr amd64 4.00~git2288-10f4998a-2 [218 kB]\n",
            "Get:24 http://archive.ubuntu.com/ubuntu bionic/main amd64 python3-cffi-backend amd64 1.11.5-1 [64.6 kB]\n",
            "Get:25 http://archive.ubuntu.com/ubuntu bionic/universe amd64 python3-defusedxml all 0.5.0-1ubuntu1 [19.2 kB]\n",
            "Get:26 http://archive.ubuntu.com/ubuntu bionic/universe amd64 python3-img2pdf all 0.2.3-1 [22.8 kB]\n",
            "Get:27 http://archive.ubuntu.com/ubuntu bionic/universe amd64 python3-pypdf2 all 1.26.0-2 [49.2 kB]\n",
            "Get:28 http://archive.ubuntu.com/ubuntu bionic-updates/universe amd64 ocrmypdf all 6.1.2-1ubuntu1.1 [74.3 kB]\n",
            "Get:29 http://archive.ubuntu.com/ubuntu bionic/main amd64 python3-olefile all 0.45.1-1 [33.3 kB]\n",
            "Get:30 http://archive.ubuntu.com/ubuntu bionic-updates/main amd64 python3-renderpm amd64 3.4.0-3ubuntu0.1 [33.5 kB]\n",
            "Get:31 http://archive.ubuntu.com/ubuntu bionic/universe amd64 unpaper amd64 6.1-2 [242 kB]\n",
            "Fetched 21.6 MB in 3s (7,458 kB/s)\n",
            "Extracting templates from packages: 100%\n",
            "Selecting previously unselected package fonts-droid-fallback.\n",
            "(Reading database ... 155229 files and directories currently installed.)\n",
            "Preparing to unpack .../00-fonts-droid-fallback_1%3a6.0.1r16-1.1_all.deb ...\n",
            "Unpacking fonts-droid-fallback (1:6.0.1r16-1.1) ...\n",
            "Selecting previously unselected package poppler-data.\n",
            "Preparing to unpack .../01-poppler-data_0.4.8-2_all.deb ...\n",
            "Unpacking poppler-data (0.4.8-2) ...\n",
            "Selecting previously unselected package fonts-noto-mono.\n",
            "Preparing to unpack .../02-fonts-noto-mono_20171026-2_all.deb ...\n",
            "Unpacking fonts-noto-mono (20171026-2) ...\n",
            "Selecting previously unselected package libcupsimage2:amd64.\n",
            "Preparing to unpack .../03-libcupsimage2_2.2.7-1ubuntu2.8_amd64.deb ...\n",
            "Unpacking libcupsimage2:amd64 (2.2.7-1ubuntu2.8) ...\n",
            "Selecting previously unselected package libijs-0.35:amd64.\n",
            "Preparing to unpack .../04-libijs-0.35_0.35-13_amd64.deb ...\n",
            "Unpacking libijs-0.35:amd64 (0.35-13) ...\n",
            "Selecting previously unselected package libjbig2dec0:amd64.\n",
            "Preparing to unpack .../05-libjbig2dec0_0.13-6_amd64.deb ...\n",
            "Unpacking libjbig2dec0:amd64 (0.13-6) ...\n",
            "Selecting previously unselected package libgs9-common.\n",
            "Preparing to unpack .../06-libgs9-common_9.26~dfsg+0-0ubuntu0.18.04.15_all.deb ...\n",
            "Unpacking libgs9-common (9.26~dfsg+0-0ubuntu0.18.04.15) ...\n",
            "Selecting previously unselected package libgs9:amd64.\n",
            "Preparing to unpack .../07-libgs9_9.26~dfsg+0-0ubuntu0.18.04.15_amd64.deb ...\n",
            "Unpacking libgs9:amd64 (9.26~dfsg+0-0ubuntu0.18.04.15) ...\n",
            "Selecting previously unselected package ghostscript.\n",
            "Preparing to unpack .../08-ghostscript_9.26~dfsg+0-0ubuntu0.18.04.15_amd64.deb ...\n",
            "Unpacking ghostscript (9.26~dfsg+0-0ubuntu0.18.04.15) ...\n",
            "Selecting previously unselected package gsfonts.\n",
            "Preparing to unpack .../09-gsfonts_1%3a8.11+urwcyr1.0.7~pre44-4.4_all.deb ...\n",
            "Unpacking gsfonts (1:8.11+urwcyr1.0.7~pre44-4.4) ...\n",
            "Selecting previously unselected package icc-profiles-free.\n",
            "Preparing to unpack .../10-icc-profiles-free_2.0.1+dfsg-1_all.deb ...\n",
            "Unpacking icc-profiles-free (2.0.1+dfsg-1) ...\n",
            "Selecting previously unselected package libart-2.0-2:amd64.\n",
            "Preparing to unpack .../11-libart-2.0-2_2.3.21-3_amd64.deb ...\n",
            "Unpacking libart-2.0-2:amd64 (2.3.21-3) ...\n",
            "Selecting previously unselected package libcupsfilters1:amd64.\n",
            "Preparing to unpack .../12-libcupsfilters1_1.20.2-0ubuntu3.1_amd64.deb ...\n",
            "Unpacking libcupsfilters1:amd64 (1.20.2-0ubuntu3.1) ...\n",
            "Selecting previously unselected package libqpdf21:amd64.\n",
            "Preparing to unpack .../13-libqpdf21_8.0.2-3ubuntu0.1_amd64.deb ...\n",
            "Unpacking libqpdf21:amd64 (8.0.2-3ubuntu0.1) ...\n",
            "Selecting previously unselected package python3-pil:amd64.\n",
            "Preparing to unpack .../14-python3-pil_5.1.0-1ubuntu0.7_amd64.deb ...\n",
            "Unpacking python3-pil:amd64 (5.1.0-1ubuntu0.7) ...\n",
            "Selecting previously unselected package python3-pkg-resources.\n",
            "Preparing to unpack .../15-python3-pkg-resources_39.0.1-2_all.deb ...\n",
            "Unpacking python3-pkg-resources (39.0.1-2) ...\n",
            "Selecting previously unselected package python3-reportlab-accel:amd64.\n",
            "Preparing to unpack .../16-python3-reportlab-accel_3.4.0-3ubuntu0.1_amd64.deb ...\n",
            "Unpacking python3-reportlab-accel:amd64 (3.4.0-3ubuntu0.1) ...\n",
            "Selecting previously unselected package python3-reportlab.\n",
            "Preparing to unpack .../17-python3-reportlab_3.4.0-3ubuntu0.1_all.deb ...\n",
            "Unpacking python3-reportlab (3.4.0-3ubuntu0.1) ...\n",
            "Selecting previously unselected package python3-ruffus.\n",
            "Preparing to unpack .../18-python3-ruffus_2.6.3+dfsg-5_all.deb ...\n",
            "Unpacking python3-ruffus (2.6.3+dfsg-5) ...\n",
            "Selecting previously unselected package qpdf.\n",
            "Preparing to unpack .../19-qpdf_8.0.2-3ubuntu0.1_amd64.deb ...\n",
            "Unpacking qpdf (8.0.2-3ubuntu0.1) ...\n",
            "Selecting previously unselected package tesseract-ocr-eng.\n",
            "Preparing to unpack .../20-tesseract-ocr-eng_4.00~git24-0e00fe6-1.2_all.deb ...\n",
            "Unpacking tesseract-ocr-eng (4.00~git24-0e00fe6-1.2) ...\n",
            "Selecting previously unselected package tesseract-ocr-osd.\n",
            "Preparing to unpack .../21-tesseract-ocr-osd_4.00~git24-0e00fe6-1.2_all.deb ...\n",
            "Unpacking tesseract-ocr-osd (4.00~git24-0e00fe6-1.2) ...\n",
            "Selecting previously unselected package tesseract-ocr.\n",
            "Preparing to unpack .../22-tesseract-ocr_4.00~git2288-10f4998a-2_amd64.deb ...\n",
            "Unpacking tesseract-ocr (4.00~git2288-10f4998a-2) ...\n",
            "Selecting previously unselected package python3-cffi-backend.\n",
            "Preparing to unpack .../23-python3-cffi-backend_1.11.5-1_amd64.deb ...\n",
            "Unpacking python3-cffi-backend (1.11.5-1) ...\n",
            "Selecting previously unselected package python3-defusedxml.\n",
            "Preparing to unpack .../24-python3-defusedxml_0.5.0-1ubuntu1_all.deb ...\n",
            "Unpacking python3-defusedxml (0.5.0-1ubuntu1) ...\n",
            "Selecting previously unselected package python3-img2pdf.\n",
            "Preparing to unpack .../25-python3-img2pdf_0.2.3-1_all.deb ...\n",
            "Unpacking python3-img2pdf (0.2.3-1) ...\n",
            "Selecting previously unselected package python3-pypdf2.\n",
            "Preparing to unpack .../26-python3-pypdf2_1.26.0-2_all.deb ...\n",
            "Unpacking python3-pypdf2 (1.26.0-2) ...\n",
            "Selecting previously unselected package ocrmypdf.\n",
            "Preparing to unpack .../27-ocrmypdf_6.1.2-1ubuntu1.1_all.deb ...\n",
            "Unpacking ocrmypdf (6.1.2-1ubuntu1.1) ...\n",
            "Selecting previously unselected package python3-olefile.\n",
            "Preparing to unpack .../28-python3-olefile_0.45.1-1_all.deb ...\n",
            "Unpacking python3-olefile (0.45.1-1) ...\n",
            "Selecting previously unselected package python3-renderpm:amd64.\n",
            "Preparing to unpack .../29-python3-renderpm_3.4.0-3ubuntu0.1_amd64.deb ...\n",
            "Unpacking python3-renderpm:amd64 (3.4.0-3ubuntu0.1) ...\n",
            "Selecting previously unselected package unpaper.\n",
            "Preparing to unpack .../30-unpaper_6.1-2_amd64.deb ...\n",
            "Unpacking unpaper (6.1-2) ...\n",
            "Setting up libgs9-common (9.26~dfsg+0-0ubuntu0.18.04.15) ...\n",
            "Setting up libart-2.0-2:amd64 (2.3.21-3) ...\n",
            "Setting up python3-pypdf2 (1.26.0-2) ...\n",
            "Setting up icc-profiles-free (2.0.1+dfsg-1) ...\n",
            "Setting up fonts-droid-fallback (1:6.0.1r16-1.1) ...\n",
            "Setting up python3-pil:amd64 (5.1.0-1ubuntu0.7) ...\n",
            "Setting up gsfonts (1:8.11+urwcyr1.0.7~pre44-4.4) ...\n",
            "Setting up python3-cffi-backend (1.11.5-1) ...\n",
            "Setting up python3-olefile (0.45.1-1) ...\n",
            "Setting up unpaper (6.1-2) ...\n",
            "Setting up poppler-data (0.4.8-2) ...\n",
            "Setting up libqpdf21:amd64 (8.0.2-3ubuntu0.1) ...\n",
            "Setting up python3-pkg-resources (39.0.1-2) ...\n",
            "Setting up fonts-noto-mono (20171026-2) ...\n",
            "Setting up libcupsfilters1:amd64 (1.20.2-0ubuntu3.1) ...\n",
            "Setting up libcupsimage2:amd64 (2.2.7-1ubuntu2.8) ...\n",
            "Setting up tesseract-ocr-osd (4.00~git24-0e00fe6-1.2) ...\n",
            "Setting up libjbig2dec0:amd64 (0.13-6) ...\n",
            "Setting up tesseract-ocr-eng (4.00~git24-0e00fe6-1.2) ...\n",
            "Setting up python3-defusedxml (0.5.0-1ubuntu1) ...\n",
            "Setting up python3-ruffus (2.6.3+dfsg-5) ...\n",
            "Setting up libijs-0.35:amd64 (0.35-13) ...\n",
            "Setting up python3-reportlab-accel:amd64 (3.4.0-3ubuntu0.1) ...\n",
            "Setting up tesseract-ocr (4.00~git2288-10f4998a-2) ...\n",
            "Setting up qpdf (8.0.2-3ubuntu0.1) ...\n",
            "Setting up python3-img2pdf (0.2.3-1) ...\n",
            "Setting up libgs9:amd64 (9.26~dfsg+0-0ubuntu0.18.04.15) ...\n",
            "Setting up python3-renderpm:amd64 (3.4.0-3ubuntu0.1) ...\n",
            "Setting up ghostscript (9.26~dfsg+0-0ubuntu0.18.04.15) ...\n",
            "Setting up python3-reportlab (3.4.0-3ubuntu0.1) ...\n",
            "Setting up ocrmypdf (6.1.2-1ubuntu1.1) ...\n",
            "Processing triggers for man-db (2.8.3-2ubuntu0.1) ...\n",
            "Processing triggers for fontconfig (2.12.6-0ubuntu2) ...\n",
            "Processing triggers for libc-bin (2.27-3ubuntu1.3) ...\n",
            "/sbin/ldconfig.real: /usr/local/lib/python3.7/dist-packages/ideep4py/lib/libmkldnn.so.0 is not a symbolic link\n",
            "\n"
          ]
        }
      ]
    },
    {
      "cell_type": "code",
      "source": [
        "!apt-get update --fix-missing"
      ],
      "metadata": {
        "id": "kkJaYI3h1kcw",
        "outputId": "564ca0bf-cf35-497b-8d48-d77638d27150",
        "colab": {
          "base_uri": "https://localhost:8080/"
        }
      },
      "execution_count": 2,
      "outputs": [
        {
          "output_type": "stream",
          "name": "stdout",
          "text": [
            "\r0% [Working]\r            \rGet:1 http://security.ubuntu.com/ubuntu bionic-security InRelease [88.7 kB]\n",
            "\r0% [Connecting to archive.ubuntu.com (91.189.88.142)] [1 InRelease 14.2 kB/88.7\r                                                                               \rHit:2 https://cloud.r-project.org/bin/linux/ubuntu bionic-cran40/ InRelease\n",
            "\r0% [Waiting for headers] [1 InRelease 83.7 kB/88.7 kB 94%] [Waiting for headers\r                                                                               \rIgn:3 https://developer.download.nvidia.com/compute/cuda/repos/ubuntu1804/x86_64  InRelease\n",
            "Hit:4 http://ppa.launchpad.net/c2d4u.team/c2d4u4.0+/ubuntu bionic InRelease\n",
            "Ign:5 https://developer.download.nvidia.com/compute/machine-learning/repos/ubuntu1804/x86_64  InRelease\n",
            "Hit:6 http://archive.ubuntu.com/ubuntu bionic InRelease\n",
            "Hit:7 https://developer.download.nvidia.com/compute/cuda/repos/ubuntu1804/x86_64  Release\n",
            "Hit:8 https://developer.download.nvidia.com/compute/machine-learning/repos/ubuntu1804/x86_64  Release\n",
            "Get:9 http://archive.ubuntu.com/ubuntu bionic-updates InRelease [88.7 kB]\n",
            "Get:10 http://security.ubuntu.com/ubuntu bionic-security/main amd64 Packages [2,544 kB]\n",
            "Hit:13 http://ppa.launchpad.net/cran/libgit2/ubuntu bionic InRelease\n",
            "Get:14 http://archive.ubuntu.com/ubuntu bionic-backports InRelease [74.6 kB]\n",
            "Hit:15 http://ppa.launchpad.net/deadsnakes/ppa/ubuntu bionic InRelease\n",
            "Hit:16 http://ppa.launchpad.net/graphics-drivers/ppa/ubuntu bionic InRelease\n",
            "Fetched 2,796 kB in 6s (458 kB/s)\n",
            "Reading package lists... Done\n"
          ]
        }
      ]
    },
    {
      "cell_type": "code",
      "metadata": {
        "id": "OIkKFZW-7gSS"
      },
      "source": [
        "!pip install pdfplumber -q"
      ],
      "execution_count": 3,
      "outputs": []
    },
    {
      "cell_type": "code",
      "source": [
        "#!pip install ocrmypdf"
      ],
      "metadata": {
        "id": "CScGYoStReDl",
        "outputId": "39394343-858f-403d-d82a-ac5fc6fbe930",
        "colab": {
          "base_uri": "https://localhost:8080/"
        }
      },
      "execution_count": 39,
      "outputs": [
        {
          "output_type": "stream",
          "name": "stdout",
          "text": [
            "Collecting ocrmypdf\n",
            "  Downloading ocrmypdf-13.3.0-py37-none-any.whl (122 kB)\n",
            "\u001b[K     |████████████████████████████████| 122 kB 5.1 MB/s \n",
            "\u001b[?25hRequirement already satisfied: Pillow>=8.2.0 in /usr/local/lib/python3.7/dist-packages (from ocrmypdf) (9.0.0)\n",
            "Requirement already satisfied: tqdm>=4 in /usr/local/lib/python3.7/dist-packages (from ocrmypdf) (4.62.3)\n",
            "Collecting pikepdf>=4.0.0\n",
            "  Downloading pikepdf-4.4.1-cp37-cp37m-manylinux_2_17_x86_64.manylinux2014_x86_64.whl (2.0 MB)\n",
            "\u001b[K     |████████████████████████████████| 2.0 MB 55.7 MB/s \n",
            "\u001b[?25hRequirement already satisfied: importlib-metadata>=4 in /usr/local/lib/python3.7/dist-packages (from ocrmypdf) (4.10.1)\n",
            "Requirement already satisfied: importlib-resources>=5 in /usr/local/lib/python3.7/dist-packages (from ocrmypdf) (5.4.0)\n",
            "Collecting pluggy<2,>=0.13.0\n",
            "  Downloading pluggy-1.0.0-py2.py3-none-any.whl (13 kB)\n",
            "Collecting img2pdf<0.5,>=0.3.0\n",
            "  Downloading img2pdf-0.4.3.tar.gz (98 kB)\n",
            "\u001b[K     |████████████████████████████████| 98 kB 7.2 MB/s \n",
            "\u001b[?25hCollecting coloredlogs>=14.0\n",
            "  Downloading coloredlogs-15.0.1-py2.py3-none-any.whl (46 kB)\n",
            "\u001b[K     |████████████████████████████████| 46 kB 3.5 MB/s \n",
            "\u001b[?25hCollecting reportlab>=3.5.66\n",
            "  Downloading reportlab-3.6.6-cp37-cp37m-manylinux_2_17_x86_64.manylinux2014_x86_64.whl (2.8 MB)\n",
            "\u001b[K     |████████████████████████████████| 2.8 MB 48.1 MB/s \n",
            "\u001b[?25hRequirement already satisfied: pdfminer.six!=20200720,<=20211012,>=20191110 in /usr/local/lib/python3.7/dist-packages (from ocrmypdf) (20211012)\n",
            "Requirement already satisfied: packaging>=20 in /usr/local/lib/python3.7/dist-packages (from ocrmypdf) (21.3)\n",
            "Collecting humanfriendly>=9.1\n",
            "  Downloading humanfriendly-10.0-py2.py3-none-any.whl (86 kB)\n",
            "\u001b[K     |████████████████████████████████| 86 kB 6.1 MB/s \n",
            "\u001b[?25hRequirement already satisfied: typing-extensions>=3.6.4 in /usr/local/lib/python3.7/dist-packages (from importlib-metadata>=4->ocrmypdf) (3.10.0.2)\n",
            "Requirement already satisfied: zipp>=0.5 in /usr/local/lib/python3.7/dist-packages (from importlib-metadata>=4->ocrmypdf) (3.7.0)\n",
            "Requirement already satisfied: pyparsing!=3.0.5,>=2.0.2 in /usr/local/lib/python3.7/dist-packages (from packaging>=20->ocrmypdf) (3.0.7)\n",
            "Requirement already satisfied: chardet in /usr/local/lib/python3.7/dist-packages (from pdfminer.six!=20200720,<=20211012,>=20191110->ocrmypdf) (3.0.4)\n",
            "Requirement already satisfied: cryptography in /usr/local/lib/python3.7/dist-packages (from pdfminer.six!=20200720,<=20211012,>=20191110->ocrmypdf) (36.0.1)\n",
            "Requirement already satisfied: lxml>=4.0 in /usr/local/lib/python3.7/dist-packages (from pikepdf>=4.0.0->ocrmypdf) (4.2.6)\n",
            "Requirement already satisfied: cffi>=1.12 in /usr/local/lib/python3.7/dist-packages (from cryptography->pdfminer.six!=20200720,<=20211012,>=20191110->ocrmypdf) (1.15.0)\n",
            "Requirement already satisfied: pycparser in /usr/local/lib/python3.7/dist-packages (from cffi>=1.12->cryptography->pdfminer.six!=20200720,<=20211012,>=20191110->ocrmypdf) (2.21)\n",
            "Building wheels for collected packages: img2pdf\n",
            "  Building wheel for img2pdf (setup.py) ... \u001b[?25l\u001b[?25hdone\n",
            "  Created wheel for img2pdf: filename=img2pdf-0.4.3-py3-none-any.whl size=43711 sha256=e677a504a3a88aad34700be7da6e0a5ef2e2accc462c0cf540b3cf0c4e010e96\n",
            "  Stored in directory: /root/.cache/pip/wheels/d4/79/c5/74a9ae2eb3a213b2f56712c91b166ef5ad1751f5a049cef8ef\n",
            "Successfully built img2pdf\n",
            "Installing collected packages: pikepdf, humanfriendly, reportlab, pluggy, img2pdf, coloredlogs, ocrmypdf\n",
            "  Attempting uninstall: pluggy\n",
            "    Found existing installation: pluggy 0.7.1\n",
            "    Uninstalling pluggy-0.7.1:\n",
            "      Successfully uninstalled pluggy-0.7.1\n",
            "\u001b[31mERROR: pip's dependency resolver does not currently take into account all the packages that are installed. This behaviour is the source of the following dependency conflicts.\n",
            "pytest 3.6.4 requires pluggy<0.8,>=0.5, but you have pluggy 1.0.0 which is incompatible.\n",
            "datascience 0.10.6 requires folium==0.2.1, but you have folium 0.8.3 which is incompatible.\u001b[0m\n",
            "Successfully installed coloredlogs-15.0.1 humanfriendly-10.0 img2pdf-0.4.3 ocrmypdf-13.3.0 pikepdf-4.4.1 pluggy-1.0.0 reportlab-3.6.6\n"
          ]
        }
      ]
    },
    {
      "cell_type": "code",
      "metadata": {
        "id": "bnD8KiTZK7-H"
      },
      "source": [
        "import os\n",
        "import ocrmypdf\n",
        "import requests\n",
        "import pdfplumber"
      ],
      "execution_count": 4,
      "outputs": []
    },
    {
      "cell_type": "code",
      "metadata": {
        "id": "gAg5Ob3dPbx_"
      },
      "source": [
        "def download_file(url):\n",
        "    local_filename = url.split('/')[-1]\n",
        "    \n",
        "    with requests.get(url) as r:\n",
        "        assert r.status_code == 200, f'error, status code is {r.status_code}'\n",
        "        with open(local_filename, 'wb') as f:\n",
        "            f.write(r.content)\n",
        "        \n",
        "    return local_filename"
      ],
      "execution_count": 5,
      "outputs": []
    },
    {
      "cell_type": "code",
      "source": [
        "#from google.colab import files"
      ],
      "metadata": {
        "id": "G1phuizUcNHI"
      },
      "execution_count": null,
      "outputs": []
    },
    {
      "cell_type": "code",
      "metadata": {
        "id": "fh1M72iz7mGP"
      },
      "source": [
        "#invoice = 'https://bit.ly/2UJgUpO'\n",
        "#invoice_pdf = download_file(invoice)\n",
        "\n",
        "#invoice = ('C:/Users/eoreschin/Downloads/invoice.pdf\"')\n",
        "#invoice_pdf = download_file(invoice)\n",
        "\n",
        "#invoice_pdf = ('C:/Users/eoreschin/Downloads/invoice.pdf')\n",
        "#this worked from local maschine invoice_pdf = files.upload()\n",
        "invoice = 'https://bit.ly/2UJgUpO'\n",
        "invoice_pdf = download_file(invoice)"
      ],
      "execution_count": 6,
      "outputs": []
    },
    {
      "cell_type": "code",
      "metadata": {
        "id": "5DnRw5RlXmq5",
        "colab": {
          "base_uri": "https://localhost:8080/",
          "height": 35
        },
        "outputId": "eb02a4eb-6559-4ed7-bb62-ffde5c395f48"
      },
      "source": [
        "invoice_pdf"
      ],
      "execution_count": 7,
      "outputs": [
        {
          "output_type": "execute_result",
          "data": {
            "application/vnd.google.colaboratory.intrinsic+json": {
              "type": "string"
            },
            "text/plain": [
              "'2UJgUpO'"
            ]
          },
          "metadata": {},
          "execution_count": 7
        }
      ]
    },
    {
      "cell_type": "code",
      "metadata": {
        "id": "hjHUB9b87ypz",
        "outputId": "258aae36-5e54-4f0a-cb18-3d5864e269bd",
        "colab": {
          "base_uri": "https://localhost:8080/"
        }
      },
      "source": [
        "with pdfplumber.open(invoice_pdf) as pdf:\n",
        "    page = pdf.pages[0]\n",
        "    text = page.extract_text()\n",
        "    print(text)"
      ],
      "execution_count": 8,
      "outputs": [
        {
          "output_type": "stream",
          "name": "stdout",
          "text": [
            "\n"
          ]
        }
      ]
    },
    {
      "cell_type": "code",
      "metadata": {
        "id": "GCLypZf_z0jF",
        "outputId": "4a5a2142-9f58-4af6-e743-b8fe0b391743",
        "colab": {
          "base_uri": "https://localhost:8080/"
        }
      },
      "source": [
        "os.system(f'ocrmypdf {invoice_pdf} output.pdf')"
      ],
      "execution_count": 9,
      "outputs": [
        {
          "output_type": "execute_result",
          "data": {
            "text/plain": [
              "0"
            ]
          },
          "metadata": {},
          "execution_count": 9
        }
      ]
    },
    {
      "cell_type": "code",
      "source": [
        "!ocrmypdf 2UJgUpO output.pdf"
      ],
      "metadata": {
        "id": "X8eoFpOcQfzX",
        "outputId": "4a220535-235d-47ad-c947-c5cc5e0ce70c",
        "colab": {
          "base_uri": "https://localhost:8080/"
        }
      },
      "execution_count": 10,
      "outputs": [
        {
          "output_type": "stream",
          "name": "stdout",
          "text": [
            "Scanning contents: 100% 1/1 [00:00<00:00, 276.89page/s]\n",
            "    1 \u001b[33m[tesseract] unsure about page orientation\u001b[0m\n",
            "OCR: 100% 1.0/1.0 [00:01<00:00,  1.87s/page]\n",
            "Postprocessing...\n",
            "PDF/A conversion: 100% 1/1 [00:00<00:00,  5.96page/s]\n",
            "JPEGs: 0image [00:00, ?image/s]\n",
            "JBIG2: 0item [00:00, ?item/s]\n",
            "Optimize ratio: 1.00 savings: 0.0%\n",
            "Output file is a PDF/A-2B (as expected)\n"
          ]
        }
      ]
    },
    {
      "cell_type": "code",
      "metadata": {
        "id": "psTdGdHm-IKm",
        "outputId": "2b2c6677-7030-4ac1-ff94-4215ae19dbc8",
        "colab": {
          "base_uri": "https://localhost:8080/"
        }
      },
      "source": [
        "with pdfplumber.open('output.pdf') as pdf:\n",
        "    page = pdf.pages[0]\n",
        "    text = page.extract_text(x_tolerance=2)\n",
        "    print(text)"
      ],
      "execution_count": 11,
      "outputs": [
        {
          "output_type": "stream",
          "name": "stdout",
          "text": [
            "Stanford Plumbing & Heating INVOICE\n",
            "123 Madison drive, Seattle, WA, 7829Q\n",
            "plumbingstanford.com\n",
            "990-120-4560 ?\n",
            "BILLTO Invoice No: *PINVO2081\n",
            "Allen Smith Invoice Date: nawe\n",
            "87 Private st, Seattle, WA Due Date: 12/01/18\n",
            "allen@gmail.com\n",
            "990-302-1898\n",
            "DESCRIPTION QTY/ HR UNIT PRICE TOTAL\n",
            "Installed new kitchen sink (hours) 3 $0.00 150.00\n",
            "Toto sink 1 $00.00 00.00\n",
            "Worcester greenstar magnetic system fier 1 190.00 190.00\n",
            "Nest smart thermostat 1 250.00 250.00\n",
            "Worcester Greenstar 301 1 1800.00 1500.00\n",
            "‘SUBTOTAL 2590.00\n",
            "OFSCOUNT ‘$0.00\n",
            "SUBTOTAL LESS DISCOUNT 2540.00\n",
            "‘Tank you for your business!\n",
            "‘TAX RATE 12.00%\n",
            "TOTAL TAX 304.80\n",
            "Balance Due $2,844.80\n",
            "Terms& instructions\n",
            "Please pay within 20 days by PayPal (bob@stanfordplumbingcom)\n",
            "Installed products have S year warranty\n"
          ]
        }
      ]
    },
    {
      "cell_type": "code",
      "metadata": {
        "id": "4eUU1w5d4fBP"
      },
      "source": [
        "lines = text.split('\\n')"
      ],
      "execution_count": 12,
      "outputs": []
    },
    {
      "cell_type": "code",
      "metadata": {
        "id": "1h6Y8UqgU9si",
        "colab": {
          "base_uri": "https://localhost:8080/"
        },
        "outputId": "e04bf014-9e88-444d-d152-6763a2eb836e"
      },
      "source": [
        "lines"
      ],
      "execution_count": 13,
      "outputs": [
        {
          "output_type": "execute_result",
          "data": {
            "text/plain": [
              "['Stanford Plumbing & Heating INVOICE',\n",
              " '123 Madison drive, Seattle, WA, 7829Q',\n",
              " 'plumbingstanford.com',\n",
              " '990-120-4560 ?',\n",
              " 'BILLTO Invoice No: *PINVO2081',\n",
              " 'Allen Smith Invoice Date: nawe',\n",
              " '87 Private st, Seattle, WA Due Date: 12/01/18',\n",
              " 'allen@gmail.com',\n",
              " '990-302-1898',\n",
              " 'DESCRIPTION QTY/ HR UNIT PRICE TOTAL',\n",
              " 'Installed new kitchen sink (hours) 3 $0.00 150.00',\n",
              " 'Toto sink 1 $00.00 00.00',\n",
              " 'Worcester greenstar magnetic system fier 1 190.00 190.00',\n",
              " 'Nest smart thermostat 1 250.00 250.00',\n",
              " 'Worcester Greenstar 301 1 1800.00 1500.00',\n",
              " '‘SUBTOTAL 2590.00',\n",
              " 'OFSCOUNT ‘$0.00',\n",
              " 'SUBTOTAL LESS DISCOUNT 2540.00',\n",
              " '‘Tank you for your business!',\n",
              " '‘TAX RATE 12.00%',\n",
              " 'TOTAL TAX 304.80',\n",
              " 'Balance Due $2,844.80',\n",
              " 'Terms& instructions',\n",
              " 'Please pay within 20 days by PayPal (bob@stanfordplumbingcom)',\n",
              " 'Installed products have S year warranty']"
            ]
          },
          "metadata": {},
          "execution_count": 13
        }
      ]
    },
    {
      "cell_type": "code",
      "metadata": {
        "id": "IxKbWlrJVA0R"
      },
      "source": [
        "import re"
      ],
      "execution_count": 14,
      "outputs": []
    },
    {
      "cell_type": "code",
      "metadata": {
        "id": "FYszGGphYTI7"
      },
      "source": [
        "amt_re = re.compile(r'\\.\\d\\d$')"
      ],
      "execution_count": 15,
      "outputs": []
    },
    {
      "cell_type": "code",
      "metadata": {
        "id": "d6GxjOnUYXzY"
      },
      "source": [
        "subt = 0\n",
        "\n",
        "for line in lines:\n",
        "    if 'SUBTOTAL' in line:\n",
        "        break\n",
        "    if amt_re.search(line):\n",
        "        subt += float(line.split()[-1].replace(',', '').replace('$', ''))"
      ],
      "execution_count": 16,
      "outputs": []
    },
    {
      "cell_type": "code",
      "metadata": {
        "id": "zf7IUBoUYbOD",
        "colab": {
          "base_uri": "https://localhost:8080/"
        },
        "outputId": "f5d6022a-fc8a-4b9b-b724-00033c97e532"
      },
      "source": [
        "subt"
      ],
      "execution_count": 17,
      "outputs": [
        {
          "output_type": "execute_result",
          "data": {
            "text/plain": [
              "2090.0"
            ]
          },
          "metadata": {},
          "execution_count": 17
        }
      ]
    },
    {
      "cell_type": "code",
      "metadata": {
        "id": "Ej2AUIsfYxw0",
        "colab": {
          "base_uri": "https://localhost:8080/"
        },
        "outputId": "fa5b02c0-92c9-4517-e43f-54ef03cbea14"
      },
      "source": [
        "lines"
      ],
      "execution_count": 18,
      "outputs": [
        {
          "output_type": "execute_result",
          "data": {
            "text/plain": [
              "['Stanford Plumbing & Heating INVOICE',\n",
              " '123 Madison drive, Seattle, WA, 7829Q',\n",
              " 'plumbingstanford.com',\n",
              " '990-120-4560 ?',\n",
              " 'BILLTO Invoice No: *PINVO2081',\n",
              " 'Allen Smith Invoice Date: nawe',\n",
              " '87 Private st, Seattle, WA Due Date: 12/01/18',\n",
              " 'allen@gmail.com',\n",
              " '990-302-1898',\n",
              " 'DESCRIPTION QTY/ HR UNIT PRICE TOTAL',\n",
              " 'Installed new kitchen sink (hours) 3 $0.00 150.00',\n",
              " 'Toto sink 1 $00.00 00.00',\n",
              " 'Worcester greenstar magnetic system fier 1 190.00 190.00',\n",
              " 'Nest smart thermostat 1 250.00 250.00',\n",
              " 'Worcester Greenstar 301 1 1800.00 1500.00',\n",
              " '‘SUBTOTAL 2590.00',\n",
              " 'OFSCOUNT ‘$0.00',\n",
              " 'SUBTOTAL LESS DISCOUNT 2540.00',\n",
              " '‘Tank you for your business!',\n",
              " '‘TAX RATE 12.00%',\n",
              " 'TOTAL TAX 304.80',\n",
              " 'Balance Due $2,844.80',\n",
              " 'Terms& instructions',\n",
              " 'Please pay within 20 days by PayPal (bob@stanfordplumbingcom)',\n",
              " 'Installed products have S year warranty']"
            ]
          },
          "metadata": {},
          "execution_count": 18
        }
      ]
    },
    {
      "cell_type": "code",
      "metadata": {
        "id": "DaUo7dk9Y2Aj"
      },
      "source": [
        ""
      ],
      "execution_count": 18,
      "outputs": []
    }
  ]
}