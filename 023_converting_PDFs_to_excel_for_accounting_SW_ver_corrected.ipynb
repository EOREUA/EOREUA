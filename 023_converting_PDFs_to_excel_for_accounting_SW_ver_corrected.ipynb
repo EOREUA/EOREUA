{
  "nbformat": 4,
  "nbformat_minor": 0,
  "metadata": {
    "colab": {
      "name": "023 converting scanned PDFs to excel for accounting",
      "provenance": [],
      "collapsed_sections": [],
      "include_colab_link": true
    },
    "kernelspec": {
      "name": "python3",
      "display_name": "Python 3"
    }
  },
  "cells": [
    {
      "cell_type": "markdown",
      "metadata": {
        "id": "view-in-github",
        "colab_type": "text"
      },
      "source": [
        "<a href=\"https://colab.research.google.com/github/EOREUA/EOREUA/blob/main/023_converting_PDFs_to_excel_for_accounting_SW_ver_corrected.ipynb\" target=\"_parent\"><img src=\"https://colab.research.google.com/assets/colab-badge.svg\" alt=\"Open In Colab\"/></a>"
      ]
    },
    {
      "cell_type": "code",
      "metadata": {
        "colab": {
          "base_uri": "https://localhost:8080/"
        },
        "id": "OCPHMyR0KB5W",
        "outputId": "e00f41b3-3d61-44b7-c445-a1bb89904a28"
      },
      "source": [
        "%%shell\n",
        "sudo apt-get -y remove ocrmypdf\n",
        "sudo apt-get -y update\n",
        "sudo apt-get -y install \\\n",
        "    ghostscript \\\n",
        "    icc-profiles-free \\\n",
        "    liblept5 \\\n",
        "    libxml2 \\\n",
        "    pngquant \\\n",
        "    python3-cffi \\\n",
        "    python3-distutils \\\n",
        "    python3-pkg-resources \\\n",
        "    python3-reportlab \\\n",
        "    qpdf \\\n",
        "    tesseract-ocr \\\n",
        "    zlib1g \\\n",
        "    unpaper"
      ],
      "execution_count": 1,
      "outputs": [
        {
          "output_type": "stream",
          "name": "stdout",
          "text": [
            "Reading package lists... Done\n",
            "Building dependency tree       \n",
            "Reading state information... Done\n",
            "Package 'ocrmypdf' is not installed, so not removed\n",
            "The following packages were automatically installed and are no longer required:\n",
            "  cuda-command-line-tools-10-0 cuda-command-line-tools-10-1\n",
            "  cuda-command-line-tools-11-0 cuda-compiler-10-0 cuda-compiler-10-1\n",
            "  cuda-compiler-11-0 cuda-cuobjdump-10-0 cuda-cuobjdump-10-1\n",
            "  cuda-cuobjdump-11-0 cuda-cupti-10-0 cuda-cupti-10-1 cuda-cupti-11-0\n",
            "  cuda-cupti-dev-11-0 cuda-documentation-10-0 cuda-documentation-10-1\n",
            "  cuda-documentation-11-0 cuda-documentation-11-1 cuda-gdb-10-0 cuda-gdb-10-1\n",
            "  cuda-gdb-11-0 cuda-gpu-library-advisor-10-0 cuda-gpu-library-advisor-10-1\n",
            "  cuda-libraries-10-0 cuda-libraries-10-1 cuda-libraries-11-0\n",
            "  cuda-memcheck-10-0 cuda-memcheck-10-1 cuda-memcheck-11-0 cuda-nsight-10-0\n",
            "  cuda-nsight-10-1 cuda-nsight-11-0 cuda-nsight-11-1 cuda-nsight-compute-10-0\n",
            "  cuda-nsight-compute-10-1 cuda-nsight-compute-11-0 cuda-nsight-compute-11-1\n",
            "  cuda-nsight-systems-10-1 cuda-nsight-systems-11-0 cuda-nsight-systems-11-1\n",
            "  cuda-nvcc-10-0 cuda-nvcc-10-1 cuda-nvcc-11-0 cuda-nvdisasm-10-0\n",
            "  cuda-nvdisasm-10-1 cuda-nvdisasm-11-0 cuda-nvml-dev-10-0 cuda-nvml-dev-10-1\n",
            "  cuda-nvml-dev-11-0 cuda-nvprof-10-0 cuda-nvprof-10-1 cuda-nvprof-11-0\n",
            "  cuda-nvprune-10-0 cuda-nvprune-10-1 cuda-nvprune-11-0 cuda-nvtx-10-0\n",
            "  cuda-nvtx-10-1 cuda-nvtx-11-0 cuda-nvvp-10-0 cuda-nvvp-10-1 cuda-nvvp-11-0\n",
            "  cuda-nvvp-11-1 cuda-samples-10-0 cuda-samples-10-1 cuda-samples-11-0\n",
            "  cuda-samples-11-1 cuda-sanitizer-11-0 cuda-sanitizer-api-10-1\n",
            "  cuda-toolkit-10-0 cuda-toolkit-10-1 cuda-toolkit-11-0 cuda-toolkit-11-1\n",
            "  cuda-tools-10-0 cuda-tools-10-1 cuda-tools-11-0 cuda-tools-11-1\n",
            "  cuda-visual-tools-10-0 cuda-visual-tools-10-1 cuda-visual-tools-11-0\n",
            "  cuda-visual-tools-11-1 default-jre dkms freeglut3 freeglut3-dev\n",
            "  keyboard-configuration libargon2-0 libcap2 libcryptsetup12\n",
            "  libdevmapper1.02.1 libfontenc1 libidn11 libip4tc0 libjansson4\n",
            "  libnvidia-cfg1-510 libnvidia-common-460 libnvidia-common-510\n",
            "  libnvidia-extra-510 libnvidia-fbc1-510 libnvidia-gl-510 libpam-systemd\n",
            "  libpolkit-agent-1-0 libpolkit-backend-1-0 libpolkit-gobject-1-0 libxfont2\n",
            "  libxi-dev libxkbfile1 libxmu-dev libxmu-headers libxnvctrl0 libxtst6\n",
            "  nsight-compute-2020.2.1 nsight-compute-2022.1.0 nsight-systems-2020.3.2\n",
            "  nsight-systems-2020.3.4 nsight-systems-2021.5.2 nvidia-dkms-510\n",
            "  nvidia-kernel-common-510 nvidia-kernel-source-510 nvidia-modprobe\n",
            "  nvidia-settings openjdk-11-jre policykit-1 policykit-1-gnome python3-xkit\n",
            "  screen-resolution-extra systemd systemd-sysv udev x11-xkb-utils\n",
            "  xserver-common xserver-xorg-core-hwe-18.04 xserver-xorg-video-nvidia-510\n",
            "Use 'sudo apt autoremove' to remove them.\n",
            "0 upgraded, 0 newly installed, 0 to remove and 39 not upgraded.\n",
            "Ign:1 https://developer.download.nvidia.com/compute/cuda/repos/ubuntu1804/x86_64  InRelease\n",
            "Get:2 https://cloud.r-project.org/bin/linux/ubuntu bionic-cran40/ InRelease [3,626 B]\n",
            "Ign:3 https://developer.download.nvidia.com/compute/machine-learning/repos/ubuntu1804/x86_64  InRelease\n",
            "Get:4 https://developer.download.nvidia.com/compute/cuda/repos/ubuntu1804/x86_64  Release [696 B]\n",
            "Hit:5 https://developer.download.nvidia.com/compute/machine-learning/repos/ubuntu1804/x86_64  Release\n",
            "Get:6 https://developer.download.nvidia.com/compute/cuda/repos/ubuntu1804/x86_64  Release.gpg [836 B]\n",
            "Get:7 http://security.ubuntu.com/ubuntu bionic-security InRelease [88.7 kB]\n",
            "Get:8 http://ppa.launchpad.net/c2d4u.team/c2d4u4.0+/ubuntu bionic InRelease [15.9 kB]\n",
            "Hit:9 http://archive.ubuntu.com/ubuntu bionic InRelease\n",
            "Get:10 http://archive.ubuntu.com/ubuntu bionic-updates InRelease [88.7 kB]\n",
            "Hit:12 http://ppa.launchpad.net/cran/libgit2/ubuntu bionic InRelease\n",
            "Get:13 https://developer.download.nvidia.com/compute/cuda/repos/ubuntu1804/x86_64  Packages [917 kB]\n",
            "Get:14 http://archive.ubuntu.com/ubuntu bionic-backports InRelease [74.6 kB]\n",
            "Get:15 http://ppa.launchpad.net/deadsnakes/ppa/ubuntu bionic InRelease [15.9 kB]\n",
            "Get:16 http://ppa.launchpad.net/graphics-drivers/ppa/ubuntu bionic InRelease [21.3 kB]\n",
            "Get:17 http://security.ubuntu.com/ubuntu bionic-security/main amd64 Packages [2,565 kB]\n",
            "Get:18 http://ppa.launchpad.net/c2d4u.team/c2d4u4.0+/ubuntu bionic/main Sources [1,826 kB]\n",
            "Get:19 http://archive.ubuntu.com/ubuntu bionic-updates/main amd64 Packages [3,004 kB]\n",
            "Get:20 http://security.ubuntu.com/ubuntu bionic-security/restricted amd64 Packages [783 kB]\n",
            "Get:21 http://security.ubuntu.com/ubuntu bionic-security/multiverse amd64 Packages [21.1 kB]\n",
            "Get:22 http://security.ubuntu.com/ubuntu bionic-security/universe amd64 Packages [1,470 kB]\n",
            "Get:23 http://archive.ubuntu.com/ubuntu bionic-updates/universe amd64 Packages [2,248 kB]\n",
            "Get:24 http://archive.ubuntu.com/ubuntu bionic-updates/multiverse amd64 Packages [29.0 kB]\n",
            "Get:25 http://archive.ubuntu.com/ubuntu bionic-updates/restricted amd64 Packages [816 kB]\n",
            "Get:26 http://ppa.launchpad.net/c2d4u.team/c2d4u4.0+/ubuntu bionic/main amd64 Packages [936 kB]\n",
            "Get:27 http://ppa.launchpad.net/deadsnakes/ppa/ubuntu bionic/main amd64 Packages [45.3 kB]\n",
            "Get:28 http://ppa.launchpad.net/graphics-drivers/ppa/ubuntu bionic/main amd64 Packages [42.8 kB]\n",
            "Fetched 15.0 MB in 5s (3,054 kB/s)\n",
            "Reading package lists... Done\n",
            "Reading package lists... Done\n",
            "Building dependency tree       \n",
            "Reading state information... Done\n",
            "zlib1g is already the newest version (1:1.2.11.dfsg-0ubuntu2).\n",
            "liblept5 is already the newest version (1.75.3-3).\n",
            "liblept5 set to manually installed.\n",
            "libxml2 is already the newest version (2.9.4+dfsg1-6.1ubuntu1.4).\n",
            "libxml2 set to manually installed.\n",
            "python3-distutils is already the newest version (3.6.9-1~18.04).\n",
            "python3-distutils set to manually installed.\n",
            "The following packages were automatically installed and are no longer required:\n",
            "  cuda-command-line-tools-10-0 cuda-command-line-tools-10-1\n",
            "  cuda-command-line-tools-11-0 cuda-compiler-10-0 cuda-compiler-10-1\n",
            "  cuda-compiler-11-0 cuda-cuobjdump-10-0 cuda-cuobjdump-10-1\n",
            "  cuda-cuobjdump-11-0 cuda-cupti-10-0 cuda-cupti-10-1 cuda-cupti-11-0\n",
            "  cuda-cupti-dev-11-0 cuda-documentation-10-0 cuda-documentation-10-1\n",
            "  cuda-documentation-11-0 cuda-documentation-11-1 cuda-gdb-10-0 cuda-gdb-10-1\n",
            "  cuda-gdb-11-0 cuda-gpu-library-advisor-10-0 cuda-gpu-library-advisor-10-1\n",
            "  cuda-libraries-10-0 cuda-libraries-10-1 cuda-libraries-11-0\n",
            "  cuda-memcheck-10-0 cuda-memcheck-10-1 cuda-memcheck-11-0 cuda-nsight-10-0\n",
            "  cuda-nsight-10-1 cuda-nsight-11-0 cuda-nsight-11-1 cuda-nsight-compute-10-0\n",
            "  cuda-nsight-compute-10-1 cuda-nsight-compute-11-0 cuda-nsight-compute-11-1\n",
            "  cuda-nsight-systems-10-1 cuda-nsight-systems-11-0 cuda-nsight-systems-11-1\n",
            "  cuda-nvcc-10-0 cuda-nvcc-10-1 cuda-nvcc-11-0 cuda-nvdisasm-10-0\n",
            "  cuda-nvdisasm-10-1 cuda-nvdisasm-11-0 cuda-nvml-dev-10-0 cuda-nvml-dev-10-1\n",
            "  cuda-nvml-dev-11-0 cuda-nvprof-10-0 cuda-nvprof-10-1 cuda-nvprof-11-0\n",
            "  cuda-nvprune-10-0 cuda-nvprune-10-1 cuda-nvprune-11-0 cuda-nvtx-10-0\n",
            "  cuda-nvtx-10-1 cuda-nvtx-11-0 cuda-nvvp-10-0 cuda-nvvp-10-1 cuda-nvvp-11-0\n",
            "  cuda-nvvp-11-1 cuda-samples-10-0 cuda-samples-10-1 cuda-samples-11-0\n",
            "  cuda-samples-11-1 cuda-sanitizer-11-0 cuda-sanitizer-api-10-1\n",
            "  cuda-toolkit-10-0 cuda-toolkit-10-1 cuda-toolkit-11-0 cuda-toolkit-11-1\n",
            "  cuda-tools-10-0 cuda-tools-10-1 cuda-tools-11-0 cuda-tools-11-1\n",
            "  cuda-visual-tools-10-0 cuda-visual-tools-10-1 cuda-visual-tools-11-0\n",
            "  cuda-visual-tools-11-1 default-jre dkms freeglut3 freeglut3-dev\n",
            "  keyboard-configuration libargon2-0 libcap2 libcryptsetup12\n",
            "  libdevmapper1.02.1 libfontenc1 libip4tc0 libjansson4 libnvidia-cfg1-510\n",
            "  libnvidia-common-460 libnvidia-common-510 libnvidia-extra-510\n",
            "  libnvidia-fbc1-510 libnvidia-gl-510 libpam-systemd libpolkit-agent-1-0\n",
            "  libpolkit-backend-1-0 libpolkit-gobject-1-0 libxfont2 libxi-dev libxkbfile1\n",
            "  libxmu-dev libxmu-headers libxnvctrl0 libxtst6 nsight-compute-2020.2.1\n",
            "  nsight-compute-2022.1.0 nsight-systems-2020.3.2 nsight-systems-2020.3.4\n",
            "  nsight-systems-2021.5.2 nvidia-dkms-510 nvidia-kernel-common-510\n",
            "  nvidia-kernel-source-510 nvidia-modprobe nvidia-settings openjdk-11-jre\n",
            "  policykit-1 policykit-1-gnome python3-xkit screen-resolution-extra systemd\n",
            "  systemd-sysv udev x11-xkb-utils xserver-common xserver-xorg-core-hwe-18.04\n",
            "  xserver-xorg-video-nvidia-510\n",
            "Use 'sudo apt autoremove' to remove them.\n",
            "The following additional packages will be installed:\n",
            "  fonts-droid-fallback fonts-noto-mono gsfonts libart-2.0-2 libcupsfilters1\n",
            "  libcupsimage2 libgs9 libgs9-common libijs-0.35 libjbig2dec0 libqpdf21\n",
            "  poppler-data python3-cffi-backend python3-olefile python3-pil python3-ply\n",
            "  python3-pycparser python3-renderpm python3-reportlab-accel tesseract-ocr-eng\n",
            "  tesseract-ocr-osd\n",
            "Suggested packages:\n",
            "  fonts-noto ghostscript-x poppler-utils fonts-japanese-mincho\n",
            "  | fonts-ipafont-mincho fonts-japanese-gothic | fonts-ipafont-gothic\n",
            "  fonts-arphic-ukai fonts-arphic-uming fonts-nanum python-pil-doc\n",
            "  python3-pil-dbg python3-setuptools python-ply-doc python3-renderpm-dbg\n",
            "  pdf-viewer python3-egenix-mxtexttools python-reportlab-doc\n",
            "The following NEW packages will be installed:\n",
            "  fonts-droid-fallback fonts-noto-mono ghostscript gsfonts icc-profiles-free\n",
            "  libart-2.0-2 libcupsfilters1 libcupsimage2 libgs9 libgs9-common libijs-0.35\n",
            "  libjbig2dec0 libqpdf21 pngquant poppler-data python3-cffi\n",
            "  python3-cffi-backend python3-olefile python3-pil python3-pkg-resources\n",
            "  python3-ply python3-pycparser python3-renderpm python3-reportlab\n",
            "  python3-reportlab-accel qpdf tesseract-ocr tesseract-ocr-eng\n",
            "  tesseract-ocr-osd unpaper\n",
            "0 upgraded, 30 newly installed, 0 to remove and 65 not upgraded.\n",
            "Need to get 21.5 MB of archives.\n",
            "After this operation, 75.7 MB of additional disk space will be used.\n",
            "Get:1 http://archive.ubuntu.com/ubuntu bionic/main amd64 fonts-droid-fallback all 1:6.0.1r16-1.1 [1,805 kB]\n",
            "Get:2 http://archive.ubuntu.com/ubuntu bionic/main amd64 poppler-data all 0.4.8-2 [1,479 kB]\n",
            "Get:3 http://archive.ubuntu.com/ubuntu bionic/main amd64 fonts-noto-mono all 20171026-2 [75.5 kB]\n",
            "Get:4 http://archive.ubuntu.com/ubuntu bionic-updates/main amd64 libcupsimage2 amd64 2.2.7-1ubuntu2.8 [18.6 kB]\n",
            "Get:5 http://archive.ubuntu.com/ubuntu bionic/main amd64 libijs-0.35 amd64 0.35-13 [15.5 kB]\n",
            "Get:6 http://archive.ubuntu.com/ubuntu bionic/main amd64 libjbig2dec0 amd64 0.13-6 [55.9 kB]\n",
            "Get:7 http://archive.ubuntu.com/ubuntu bionic-updates/main amd64 libgs9-common all 9.26~dfsg+0-0ubuntu0.18.04.15 [5,092 kB]\n",
            "Get:8 http://archive.ubuntu.com/ubuntu bionic-updates/main amd64 libgs9 amd64 9.26~dfsg+0-0ubuntu0.18.04.15 [2,265 kB]\n",
            "Get:9 http://archive.ubuntu.com/ubuntu bionic-updates/main amd64 ghostscript amd64 9.26~dfsg+0-0ubuntu0.18.04.15 [51.4 kB]\n",
            "Get:10 http://archive.ubuntu.com/ubuntu bionic/main amd64 gsfonts all 1:8.11+urwcyr1.0.7~pre44-4.4 [3,120 kB]\n",
            "Get:11 http://archive.ubuntu.com/ubuntu bionic/main amd64 icc-profiles-free all 2.0.1+dfsg-1 [549 kB]\n",
            "Get:12 http://archive.ubuntu.com/ubuntu bionic/main amd64 libart-2.0-2 amd64 2.3.21-3 [51.9 kB]\n",
            "Get:13 http://archive.ubuntu.com/ubuntu bionic-updates/main amd64 libcupsfilters1 amd64 1.20.2-0ubuntu3.1 [108 kB]\n",
            "Get:14 http://archive.ubuntu.com/ubuntu bionic-updates/main amd64 libqpdf21 amd64 8.0.2-3ubuntu0.1 [290 kB]\n",
            "Get:15 http://archive.ubuntu.com/ubuntu bionic/universe amd64 pngquant amd64 2.5.0-2 [35.6 kB]\n",
            "Get:16 http://archive.ubuntu.com/ubuntu bionic/main amd64 python3-cffi-backend amd64 1.11.5-1 [64.6 kB]\n",
            "Get:17 http://archive.ubuntu.com/ubuntu bionic/main amd64 python3-ply all 3.11-1 [46.6 kB]\n",
            "Get:18 http://archive.ubuntu.com/ubuntu bionic/universe amd64 python3-pycparser all 2.18-2 [67.7 kB]\n",
            "Get:19 http://archive.ubuntu.com/ubuntu bionic/universe amd64 python3-cffi all 1.11.5-1 [67.4 kB]\n",
            "Get:20 http://archive.ubuntu.com/ubuntu bionic/main amd64 python3-olefile all 0.45.1-1 [33.3 kB]\n",
            "Get:21 http://archive.ubuntu.com/ubuntu bionic-updates/main amd64 python3-pil amd64 5.1.0-1ubuntu0.7 [331 kB]\n",
            "Get:22 http://archive.ubuntu.com/ubuntu bionic/main amd64 python3-pkg-resources all 39.0.1-2 [98.8 kB]\n",
            "Get:23 http://archive.ubuntu.com/ubuntu bionic-updates/main amd64 python3-renderpm amd64 3.4.0-3ubuntu0.1 [33.5 kB]\n",
            "Get:24 http://archive.ubuntu.com/ubuntu bionic-updates/main amd64 python3-reportlab-accel amd64 3.4.0-3ubuntu0.1 [18.4 kB]\n",
            "Get:25 http://archive.ubuntu.com/ubuntu bionic-updates/main amd64 python3-reportlab all 3.4.0-3ubuntu0.1 [473 kB]\n",
            "Get:26 http://archive.ubuntu.com/ubuntu bionic-updates/main amd64 qpdf amd64 8.0.2-3ubuntu0.1 [238 kB]\n",
            "Get:27 http://archive.ubuntu.com/ubuntu bionic/universe amd64 tesseract-ocr-eng all 4.00~git24-0e00fe6-1.2 [1,588 kB]\n",
            "Get:28 http://archive.ubuntu.com/ubuntu bionic/universe amd64 tesseract-ocr-osd all 4.00~git24-0e00fe6-1.2 [2,989 kB]\n",
            "Get:29 http://archive.ubuntu.com/ubuntu bionic/universe amd64 tesseract-ocr amd64 4.00~git2288-10f4998a-2 [218 kB]\n",
            "Get:30 http://archive.ubuntu.com/ubuntu bionic/universe amd64 unpaper amd64 6.1-2 [242 kB]\n",
            "Fetched 21.5 MB in 2s (8,733 kB/s)\n",
            "debconf: unable to initialize frontend: Dialog\n",
            "debconf: (No usable dialog-like program is installed, so the dialog based frontend cannot be used. at /usr/share/perl5/Debconf/FrontEnd/Dialog.pm line 76, <> line 30.)\n",
            "debconf: falling back to frontend: Readline\n",
            "debconf: unable to initialize frontend: Readline\n",
            "debconf: (This frontend requires a controlling tty.)\n",
            "debconf: falling back to frontend: Teletype\n",
            "dpkg-preconfigure: unable to re-open stdin: \n",
            "Selecting previously unselected package fonts-droid-fallback.\n",
            "(Reading database ... 155113 files and directories currently installed.)\n",
            "Preparing to unpack .../00-fonts-droid-fallback_1%3a6.0.1r16-1.1_all.deb ...\n",
            "Unpacking fonts-droid-fallback (1:6.0.1r16-1.1) ...\n",
            "Selecting previously unselected package poppler-data.\n",
            "Preparing to unpack .../01-poppler-data_0.4.8-2_all.deb ...\n",
            "Unpacking poppler-data (0.4.8-2) ...\n",
            "Selecting previously unselected package fonts-noto-mono.\n",
            "Preparing to unpack .../02-fonts-noto-mono_20171026-2_all.deb ...\n",
            "Unpacking fonts-noto-mono (20171026-2) ...\n",
            "Selecting previously unselected package libcupsimage2:amd64.\n",
            "Preparing to unpack .../03-libcupsimage2_2.2.7-1ubuntu2.8_amd64.deb ...\n",
            "Unpacking libcupsimage2:amd64 (2.2.7-1ubuntu2.8) ...\n",
            "Selecting previously unselected package libijs-0.35:amd64.\n",
            "Preparing to unpack .../04-libijs-0.35_0.35-13_amd64.deb ...\n",
            "Unpacking libijs-0.35:amd64 (0.35-13) ...\n",
            "Selecting previously unselected package libjbig2dec0:amd64.\n",
            "Preparing to unpack .../05-libjbig2dec0_0.13-6_amd64.deb ...\n",
            "Unpacking libjbig2dec0:amd64 (0.13-6) ...\n",
            "Selecting previously unselected package libgs9-common.\n",
            "Preparing to unpack .../06-libgs9-common_9.26~dfsg+0-0ubuntu0.18.04.15_all.deb ...\n",
            "Unpacking libgs9-common (9.26~dfsg+0-0ubuntu0.18.04.15) ...\n",
            "Selecting previously unselected package libgs9:amd64.\n",
            "Preparing to unpack .../07-libgs9_9.26~dfsg+0-0ubuntu0.18.04.15_amd64.deb ...\n",
            "Unpacking libgs9:amd64 (9.26~dfsg+0-0ubuntu0.18.04.15) ...\n",
            "Selecting previously unselected package ghostscript.\n",
            "Preparing to unpack .../08-ghostscript_9.26~dfsg+0-0ubuntu0.18.04.15_amd64.deb ...\n",
            "Unpacking ghostscript (9.26~dfsg+0-0ubuntu0.18.04.15) ...\n",
            "Selecting previously unselected package gsfonts.\n",
            "Preparing to unpack .../09-gsfonts_1%3a8.11+urwcyr1.0.7~pre44-4.4_all.deb ...\n",
            "Unpacking gsfonts (1:8.11+urwcyr1.0.7~pre44-4.4) ...\n",
            "Selecting previously unselected package icc-profiles-free.\n",
            "Preparing to unpack .../10-icc-profiles-free_2.0.1+dfsg-1_all.deb ...\n",
            "Unpacking icc-profiles-free (2.0.1+dfsg-1) ...\n",
            "Selecting previously unselected package libart-2.0-2:amd64.\n",
            "Preparing to unpack .../11-libart-2.0-2_2.3.21-3_amd64.deb ...\n",
            "Unpacking libart-2.0-2:amd64 (2.3.21-3) ...\n",
            "Selecting previously unselected package libcupsfilters1:amd64.\n",
            "Preparing to unpack .../12-libcupsfilters1_1.20.2-0ubuntu3.1_amd64.deb ...\n",
            "Unpacking libcupsfilters1:amd64 (1.20.2-0ubuntu3.1) ...\n",
            "Selecting previously unselected package libqpdf21:amd64.\n",
            "Preparing to unpack .../13-libqpdf21_8.0.2-3ubuntu0.1_amd64.deb ...\n",
            "Unpacking libqpdf21:amd64 (8.0.2-3ubuntu0.1) ...\n",
            "Selecting previously unselected package pngquant.\n",
            "Preparing to unpack .../14-pngquant_2.5.0-2_amd64.deb ...\n",
            "Unpacking pngquant (2.5.0-2) ...\n",
            "Selecting previously unselected package python3-cffi-backend.\n",
            "Preparing to unpack .../15-python3-cffi-backend_1.11.5-1_amd64.deb ...\n",
            "Unpacking python3-cffi-backend (1.11.5-1) ...\n",
            "Selecting previously unselected package python3-ply.\n",
            "Preparing to unpack .../16-python3-ply_3.11-1_all.deb ...\n",
            "Unpacking python3-ply (3.11-1) ...\n",
            "Selecting previously unselected package python3-pycparser.\n",
            "Preparing to unpack .../17-python3-pycparser_2.18-2_all.deb ...\n",
            "Unpacking python3-pycparser (2.18-2) ...\n",
            "Selecting previously unselected package python3-cffi.\n",
            "Preparing to unpack .../18-python3-cffi_1.11.5-1_all.deb ...\n",
            "Unpacking python3-cffi (1.11.5-1) ...\n",
            "Selecting previously unselected package python3-olefile.\n",
            "Preparing to unpack .../19-python3-olefile_0.45.1-1_all.deb ...\n",
            "Unpacking python3-olefile (0.45.1-1) ...\n",
            "Selecting previously unselected package python3-pil:amd64.\n",
            "Preparing to unpack .../20-python3-pil_5.1.0-1ubuntu0.7_amd64.deb ...\n",
            "Unpacking python3-pil:amd64 (5.1.0-1ubuntu0.7) ...\n",
            "Selecting previously unselected package python3-pkg-resources.\n",
            "Preparing to unpack .../21-python3-pkg-resources_39.0.1-2_all.deb ...\n",
            "Unpacking python3-pkg-resources (39.0.1-2) ...\n",
            "Selecting previously unselected package python3-renderpm:amd64.\n",
            "Preparing to unpack .../22-python3-renderpm_3.4.0-3ubuntu0.1_amd64.deb ...\n",
            "Unpacking python3-renderpm:amd64 (3.4.0-3ubuntu0.1) ...\n",
            "Selecting previously unselected package python3-reportlab-accel:amd64.\n",
            "Preparing to unpack .../23-python3-reportlab-accel_3.4.0-3ubuntu0.1_amd64.deb ...\n",
            "Unpacking python3-reportlab-accel:amd64 (3.4.0-3ubuntu0.1) ...\n",
            "Selecting previously unselected package python3-reportlab.\n",
            "Preparing to unpack .../24-python3-reportlab_3.4.0-3ubuntu0.1_all.deb ...\n",
            "Unpacking python3-reportlab (3.4.0-3ubuntu0.1) ...\n",
            "Selecting previously unselected package qpdf.\n",
            "Preparing to unpack .../25-qpdf_8.0.2-3ubuntu0.1_amd64.deb ...\n",
            "Unpacking qpdf (8.0.2-3ubuntu0.1) ...\n",
            "Selecting previously unselected package tesseract-ocr-eng.\n",
            "Preparing to unpack .../26-tesseract-ocr-eng_4.00~git24-0e00fe6-1.2_all.deb ...\n",
            "Unpacking tesseract-ocr-eng (4.00~git24-0e00fe6-1.2) ...\n",
            "Selecting previously unselected package tesseract-ocr-osd.\n",
            "Preparing to unpack .../27-tesseract-ocr-osd_4.00~git24-0e00fe6-1.2_all.deb ...\n",
            "Unpacking tesseract-ocr-osd (4.00~git24-0e00fe6-1.2) ...\n",
            "Selecting previously unselected package tesseract-ocr.\n",
            "Preparing to unpack .../28-tesseract-ocr_4.00~git2288-10f4998a-2_amd64.deb ...\n",
            "Unpacking tesseract-ocr (4.00~git2288-10f4998a-2) ...\n",
            "Selecting previously unselected package unpaper.\n",
            "Preparing to unpack .../29-unpaper_6.1-2_amd64.deb ...\n",
            "Unpacking unpaper (6.1-2) ...\n",
            "Setting up libgs9-common (9.26~dfsg+0-0ubuntu0.18.04.15) ...\n",
            "Setting up libart-2.0-2:amd64 (2.3.21-3) ...\n",
            "Setting up pngquant (2.5.0-2) ...\n",
            "Setting up icc-profiles-free (2.0.1+dfsg-1) ...\n",
            "Setting up fonts-droid-fallback (1:6.0.1r16-1.1) ...\n",
            "Setting up python3-pil:amd64 (5.1.0-1ubuntu0.7) ...\n",
            "Setting up gsfonts (1:8.11+urwcyr1.0.7~pre44-4.4) ...\n",
            "Setting up python3-cffi-backend (1.11.5-1) ...\n",
            "Setting up python3-olefile (0.45.1-1) ...\n",
            "Setting up unpaper (6.1-2) ...\n",
            "Setting up poppler-data (0.4.8-2) ...\n",
            "Setting up libqpdf21:amd64 (8.0.2-3ubuntu0.1) ...\n",
            "Setting up python3-pkg-resources (39.0.1-2) ...\n",
            "Setting up fonts-noto-mono (20171026-2) ...\n",
            "Setting up libcupsfilters1:amd64 (1.20.2-0ubuntu3.1) ...\n",
            "Setting up libcupsimage2:amd64 (2.2.7-1ubuntu2.8) ...\n",
            "Setting up tesseract-ocr-osd (4.00~git24-0e00fe6-1.2) ...\n",
            "Setting up libjbig2dec0:amd64 (0.13-6) ...\n",
            "Setting up tesseract-ocr-eng (4.00~git24-0e00fe6-1.2) ...\n",
            "Setting up libijs-0.35:amd64 (0.35-13) ...\n",
            "Setting up python3-ply (3.11-1) ...\n",
            "Setting up python3-reportlab-accel:amd64 (3.4.0-3ubuntu0.1) ...\n",
            "Setting up tesseract-ocr (4.00~git2288-10f4998a-2) ...\n",
            "Setting up qpdf (8.0.2-3ubuntu0.1) ...\n",
            "Setting up libgs9:amd64 (9.26~dfsg+0-0ubuntu0.18.04.15) ...\n",
            "Setting up python3-renderpm:amd64 (3.4.0-3ubuntu0.1) ...\n",
            "Setting up ghostscript (9.26~dfsg+0-0ubuntu0.18.04.15) ...\n",
            "Setting up python3-reportlab (3.4.0-3ubuntu0.1) ...\n",
            "Setting up python3-pycparser (2.18-2) ...\n",
            "Setting up python3-cffi (1.11.5-1) ...\n",
            "Processing triggers for libc-bin (2.27-3ubuntu1.3) ...\n",
            "/sbin/ldconfig.real: /usr/local/lib/python3.7/dist-packages/ideep4py/lib/libmkldnn.so.0 is not a symbolic link\n",
            "\n",
            "Processing triggers for man-db (2.8.3-2ubuntu0.1) ...\n",
            "Processing triggers for fontconfig (2.12.6-0ubuntu2) ...\n"
          ]
        },
        {
          "output_type": "execute_result",
          "data": {
            "text/plain": [
              ""
            ]
          },
          "metadata": {},
          "execution_count": 1
        }
      ]
    },
    {
      "cell_type": "code",
      "metadata": {
        "id": "zkyeOqINJf2V",
        "colab": {
          "base_uri": "https://localhost:8080/"
        },
        "outputId": "c6fe52ee-c866-4543-adae-8eea1c612029"
      },
      "source": [
        "!pip3 install ocrmypdf"
      ],
      "execution_count": 1,
      "outputs": [
        {
          "output_type": "stream",
          "name": "stdout",
          "text": [
            "Requirement already satisfied: ocrmypdf in /usr/local/lib/python3.7/dist-packages (13.3.0)\n",
            "Requirement already satisfied: packaging>=20 in /usr/local/lib/python3.7/dist-packages (from ocrmypdf) (21.3)\n",
            "Requirement already satisfied: img2pdf<0.5,>=0.3.0 in /usr/local/lib/python3.7/dist-packages (from ocrmypdf) (0.4.3)\n",
            "Requirement already satisfied: tqdm>=4 in /usr/local/lib/python3.7/dist-packages (from ocrmypdf) (4.62.3)\n",
            "Requirement already satisfied: Pillow>=8.2.0 in /usr/local/lib/python3.7/dist-packages (from ocrmypdf) (9.0.1)\n",
            "Requirement already satisfied: coloredlogs>=14.0 in /usr/local/lib/python3.7/dist-packages (from ocrmypdf) (15.0.1)\n",
            "Requirement already satisfied: importlib-resources>=5 in /usr/local/lib/python3.7/dist-packages (from ocrmypdf) (5.4.0)\n",
            "Requirement already satisfied: pluggy<2,>=0.13.0 in /usr/local/lib/python3.7/dist-packages (from ocrmypdf) (1.0.0)\n",
            "Requirement already satisfied: reportlab>=3.5.66 in /usr/local/lib/python3.7/dist-packages (from ocrmypdf) (3.6.6)\n",
            "Requirement already satisfied: pikepdf>=4.0.0 in /usr/local/lib/python3.7/dist-packages (from ocrmypdf) (4.5.0)\n",
            "Requirement already satisfied: pdfminer.six!=20200720,<=20211012,>=20191110 in /usr/local/lib/python3.7/dist-packages (from ocrmypdf) (20211012)\n",
            "Requirement already satisfied: importlib-metadata>=4 in /usr/local/lib/python3.7/dist-packages (from ocrmypdf) (4.10.1)\n",
            "Requirement already satisfied: humanfriendly>=9.1 in /usr/local/lib/python3.7/dist-packages (from coloredlogs>=14.0->ocrmypdf) (10.0)\n",
            "Requirement already satisfied: zipp>=0.5 in /usr/local/lib/python3.7/dist-packages (from importlib-metadata>=4->ocrmypdf) (3.7.0)\n",
            "Requirement already satisfied: typing-extensions>=3.6.4 in /usr/local/lib/python3.7/dist-packages (from importlib-metadata>=4->ocrmypdf) (3.10.0.2)\n",
            "Requirement already satisfied: pyparsing!=3.0.5,>=2.0.2 in /usr/local/lib/python3.7/dist-packages (from packaging>=20->ocrmypdf) (3.0.7)\n",
            "Requirement already satisfied: cryptography in /usr/local/lib/python3.7/dist-packages (from pdfminer.six!=20200720,<=20211012,>=20191110->ocrmypdf) (36.0.1)\n",
            "Requirement already satisfied: chardet in /usr/local/lib/python3.7/dist-packages (from pdfminer.six!=20200720,<=20211012,>=20191110->ocrmypdf) (3.0.4)\n",
            "Requirement already satisfied: lxml>=4.0 in /usr/local/lib/python3.7/dist-packages (from pikepdf>=4.0.0->ocrmypdf) (4.2.6)\n",
            "Requirement already satisfied: cffi>=1.12 in /usr/local/lib/python3.7/dist-packages (from cryptography->pdfminer.six!=20200720,<=20211012,>=20191110->ocrmypdf) (1.15.0)\n",
            "Requirement already satisfied: pycparser in /usr/local/lib/python3.7/dist-packages (from cffi>=1.12->cryptography->pdfminer.six!=20200720,<=20211012,>=20191110->ocrmypdf) (2.21)\n"
          ]
        }
      ]
    },
    {
      "cell_type": "code",
      "metadata": {
        "id": "OIkKFZW-7gSS",
        "colab": {
          "base_uri": "https://localhost:8080/"
        },
        "outputId": "28038b41-912e-4928-9b8d-971554ef419b"
      },
      "source": [
        "!pip install pdfplumber -q"
      ],
      "execution_count": 2,
      "outputs": [
        {
          "output_type": "stream",
          "name": "stdout",
          "text": [
            "\u001b[K     |████████████████████████████████| 46 kB 2.5 MB/s \n",
            "\u001b[K     |████████████████████████████████| 139 kB 12.9 MB/s \n",
            "\u001b[?25h  Building wheel for pdfplumber (setup.py) ... \u001b[?25l\u001b[?25hdone\n"
          ]
        }
      ]
    },
    {
      "cell_type": "code",
      "metadata": {
        "id": "bnD8KiTZK7-H"
      },
      "source": [
        "import os\n",
        "\n",
        "import requests\n",
        "import pdfplumber"
      ],
      "execution_count": 3,
      "outputs": []
    },
    {
      "cell_type": "code",
      "metadata": {
        "id": "gAg5Ob3dPbx_"
      },
      "source": [
        "def download_file(url):\n",
        "    local_filename = url.split('/')[-1]\n",
        "    \n",
        "    with requests.get(url) as r:\n",
        "        assert r.status_code == 200, f'error, status code is {r.status_code}'\n",
        "        with open(local_filename, 'wb') as f:\n",
        "            f.write(r.content)\n",
        "        \n",
        "    return local_filename"
      ],
      "execution_count": 4,
      "outputs": []
    },
    {
      "cell_type": "code",
      "metadata": {
        "id": "fh1M72iz7mGP"
      },
      "source": [
        "invoice = 'https://bit.ly/2UJgUpO'\n",
        "invoice_pdf = download_file(invoice)"
      ],
      "execution_count": 5,
      "outputs": []
    },
    {
      "cell_type": "code",
      "metadata": {
        "id": "5DnRw5RlXmq5",
        "colab": {
          "base_uri": "https://localhost:8080/",
          "height": 35
        },
        "outputId": "680eeeaa-0451-4e78-d387-efdecd694fae"
      },
      "source": [
        "invoice_pdf"
      ],
      "execution_count": 6,
      "outputs": [
        {
          "output_type": "execute_result",
          "data": {
            "application/vnd.google.colaboratory.intrinsic+json": {
              "type": "string"
            },
            "text/plain": [
              "'2UJgUpO'"
            ]
          },
          "metadata": {},
          "execution_count": 6
        }
      ]
    },
    {
      "cell_type": "code",
      "metadata": {
        "id": "hjHUB9b87ypz",
        "colab": {
          "base_uri": "https://localhost:8080/"
        },
        "outputId": "189b1ce0-9488-446e-9bec-74c19542d092"
      },
      "source": [
        "with pdfplumber.open(invoice_pdf) as pdf:\n",
        "    page = pdf.pages[0]\n",
        "    text = page.extract_text()\n",
        "    print(text)"
      ],
      "execution_count": 7,
      "outputs": [
        {
          "output_type": "stream",
          "name": "stdout",
          "text": [
            "\n"
          ]
        }
      ]
    },
    {
      "cell_type": "code",
      "metadata": {
        "id": "GCLypZf_z0jF",
        "colab": {
          "base_uri": "https://localhost:8080/"
        },
        "outputId": "491f0198-a8bf-4a7d-b3db-f713a96f7299"
      },
      "source": [
        "os.system(f'ocrmypdf {invoice_pdf} output.pdf')"
      ],
      "execution_count": 8,
      "outputs": [
        {
          "output_type": "execute_result",
          "data": {
            "text/plain": [
              "0"
            ]
          },
          "metadata": {},
          "execution_count": 8
        }
      ]
    },
    {
      "cell_type": "code",
      "metadata": {
        "id": "psTdGdHm-IKm",
        "colab": {
          "base_uri": "https://localhost:8080/"
        },
        "outputId": "8435ccbb-6a12-42c5-b6eb-9adec2d3e96a"
      },
      "source": [
        "with pdfplumber.open('output.pdf') as pdf:\n",
        "    page = pdf.pages[0]\n",
        "    text = page.extract_text(x_tolerance=2)\n",
        "    print(text)"
      ],
      "execution_count": 9,
      "outputs": [
        {
          "output_type": "stream",
          "name": "stdout",
          "text": [
            "Stanford Plumbing & Heating INVOICE\n",
            "123 Madison drive, Seattle, WA, 7829Q\n",
            "plumbingstanford.com\n",
            "990-120-4560 ?\n",
            "BILLTO Invoice No: *PINVO2081\n",
            "Allen Smith Invoice Date: nawe\n",
            "87 Private st, Seattle, WA Due Date: 12/01/18\n",
            "allen@gmail.com\n",
            "990-302-1898\n",
            "DESCRIPTION QTY/ HR UNIT PRICE TOTAL\n",
            "Installed new kitchen sink (hours) 3 $0.00 150.00\n",
            "Toto sink 1 $00.00 00.00\n",
            "Worcester greenstar magnetic system fier 1 190.00 190.00\n",
            "Nest smart thermostat 1 250.00 250.00\n",
            "Worcester Greenstar 301 1 1800.00 1500.00\n",
            "‘SUBTOTAL 2590.00\n",
            "OFSCOUNT ‘$0.00\n",
            "SUBTOTAL LESS DISCOUNT 2540.00\n",
            "‘Tank you for your business!\n",
            "‘TAX RATE 12.00%\n",
            "TOTAL TAX 304.80\n",
            "Balance Due $2,844.80\n",
            "Terms& instructions\n",
            "Please pay within 20 days by PayPal (bob@stanfordplumbingcom)\n",
            "Installed products have S year warranty\n"
          ]
        }
      ]
    },
    {
      "cell_type": "code",
      "metadata": {
        "id": "4eUU1w5d4fBP"
      },
      "source": [
        "lines = text.split('\\n')"
      ],
      "execution_count": 10,
      "outputs": []
    },
    {
      "cell_type": "code",
      "metadata": {
        "id": "1h6Y8UqgU9si",
        "colab": {
          "base_uri": "https://localhost:8080/"
        },
        "outputId": "12587298-3c37-4eb1-dd4e-cfa8c2da1fde"
      },
      "source": [
        "lines"
      ],
      "execution_count": null,
      "outputs": [
        {
          "output_type": "execute_result",
          "data": {
            "text/plain": [
              "['Stanford Plumbing & Heating INVOICE',\n",
              " '123 Madison drive, Seattle, WA, 7829Q',\n",
              " 'plumbingstanford.com',\n",
              " '990-120-4560 ?',\n",
              " 'BILLTO Invoice No: *PINVO2081',\n",
              " 'Allen Smith Invoice Date: nawe',\n",
              " '87 Private st, Seattle, WA Due Date: 12/01/18',\n",
              " 'allen@gmail.com',\n",
              " '990-302-1898',\n",
              " 'DESCRIPTION QTY/ HR UNIT PRICE TOTAL',\n",
              " 'Installed new kitchen sink (hours) 3 $0.00 150.00',\n",
              " 'Toto sink 1 $00.00 00.00',\n",
              " 'Worcester greenstar magnetic system fier 1 190.00 190.00',\n",
              " 'Nest smart thermostat 1 250.00 250.00',\n",
              " 'Worcester Greenstar 301 1 1800.00 1500.00',\n",
              " '‘SUBTOTAL 2590.00',\n",
              " 'OFSCOUNT ‘$0.00',\n",
              " 'SUBTOTAL LESS DISCOUNT 2540.00',\n",
              " '‘Tank you for your business!',\n",
              " '‘TAX RATE 12.00%',\n",
              " 'TOTAL TAX 304.80',\n",
              " 'Balance Due $2,844.80',\n",
              " 'Terms& instructions',\n",
              " 'Please pay within 20 days by PayPal (bob@stanfordplumbingcom)',\n",
              " 'Installed products have S year warranty']"
            ]
          },
          "metadata": {
            "tags": []
          },
          "execution_count": 12
        }
      ]
    },
    {
      "cell_type": "code",
      "metadata": {
        "id": "IxKbWlrJVA0R"
      },
      "source": [
        "import re"
      ],
      "execution_count": null,
      "outputs": []
    },
    {
      "cell_type": "code",
      "metadata": {
        "id": "FYszGGphYTI7"
      },
      "source": [
        "amt_re = re.compile(r'\\.\\d\\d$')"
      ],
      "execution_count": null,
      "outputs": []
    },
    {
      "cell_type": "code",
      "metadata": {
        "id": "d6GxjOnUYXzY"
      },
      "source": [
        "subt = 0\n",
        "\n",
        "for line in lines:\n",
        "    if 'SUBTOTAL' in line:\n",
        "        break\n",
        "    if amt_re.search(line):\n",
        "        subt += float(line.split()[-1].replace(',', '').replace('$', ''))"
      ],
      "execution_count": null,
      "outputs": []
    },
    {
      "cell_type": "code",
      "metadata": {
        "id": "zf7IUBoUYbOD",
        "colab": {
          "base_uri": "https://localhost:8080/"
        },
        "outputId": "cd84442d-da5a-493f-b2bb-5ba762c43f4d"
      },
      "source": [
        "subt"
      ],
      "execution_count": null,
      "outputs": [
        {
          "output_type": "execute_result",
          "data": {
            "text/plain": [
              "2090.0"
            ]
          },
          "metadata": {
            "tags": []
          },
          "execution_count": 16
        }
      ]
    },
    {
      "cell_type": "code",
      "metadata": {
        "id": "Ej2AUIsfYxw0",
        "colab": {
          "base_uri": "https://localhost:8080/"
        },
        "outputId": "7018123e-4ca2-4bbc-e6ea-765a31ce7e4f"
      },
      "source": [
        "lines"
      ],
      "execution_count": null,
      "outputs": [
        {
          "output_type": "execute_result",
          "data": {
            "text/plain": [
              "['Stanford Plumbing & Heating INVOICE',\n",
              " '123 Madison drive, Seattle, WA, 7829Q',\n",
              " 'plumbingstanford.com',\n",
              " '990-120-4560 ?',\n",
              " 'BILLTO Invoice No: *PINVO2081',\n",
              " 'Allen Smith Invoice Date: nawe',\n",
              " '87 Private st, Seattle, WA Due Date: 12/01/18',\n",
              " 'allen@gmail.com',\n",
              " '990-302-1898',\n",
              " 'DESCRIPTION QTY/ HR UNIT PRICE TOTAL',\n",
              " 'Installed new kitchen sink (hours) 3 $0.00 150.00',\n",
              " 'Toto sink 1 $00.00 00.00',\n",
              " 'Worcester greenstar magnetic system fier 1 190.00 190.00',\n",
              " 'Nest smart thermostat 1 250.00 250.00',\n",
              " 'Worcester Greenstar 301 1 1800.00 1500.00',\n",
              " '‘SUBTOTAL 2590.00',\n",
              " 'OFSCOUNT ‘$0.00',\n",
              " 'SUBTOTAL LESS DISCOUNT 2540.00',\n",
              " '‘Tank you for your business!',\n",
              " '‘TAX RATE 12.00%',\n",
              " 'TOTAL TAX 304.80',\n",
              " 'Balance Due $2,844.80',\n",
              " 'Terms& instructions',\n",
              " 'Please pay within 20 days by PayPal (bob@stanfordplumbingcom)',\n",
              " 'Installed products have S year warranty']"
            ]
          },
          "metadata": {
            "tags": []
          },
          "execution_count": 17
        }
      ]
    },
    {
      "cell_type": "code",
      "metadata": {
        "id": "DaUo7dk9Y2Aj"
      },
      "source": [
        ""
      ],
      "execution_count": null,
      "outputs": []
    }
  ]
}